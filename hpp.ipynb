{
 "cells": [
  {
   "cell_type": "code",
   "execution_count": 1,
   "id": "33e3343c-85a8-4d52-a011-2df2b90c75bd",
   "metadata": {},
   "outputs": [],
   "source": [
    "import pandas as pd\n",
    "import numpy as np"
   ]
  },
  {
   "cell_type": "code",
   "execution_count": 2,
   "id": "8f117348-f183-45fc-a3fa-b7ad4ffb3014",
   "metadata": {},
   "outputs": [],
   "source": [
    "data=pd.read_csv('delhidataset.csv')"
   ]
  },
  {
   "cell_type": "code",
   "execution_count": 3,
   "id": "c72fcefd-38dd-4828-8f18-308850165546",
   "metadata": {},
   "outputs": [
    {
     "name": "stdout",
     "output_type": "stream",
     "text": [
      "    Area  BHK  Bathroom      Furnishing  \\\n",
      "0  800.0    3       2.0  Semi-Furnished   \n",
      "1  750.0    2       2.0  Semi-Furnished   \n",
      "2  950.0    2       2.0       Furnished   \n",
      "3  600.0    2       2.0  Semi-Furnished   \n",
      "4  650.0    2       2.0  Semi-Furnished   \n",
      "\n",
      "                                            Locality  Parking     Price  \\\n",
      "0                                   Rohini Sector 25      1.0   6500000   \n",
      "1             J R Designers Floors, Rohini Sector 24      1.0   5000000   \n",
      "2                Citizen Apartment, Rohini Sector 13      1.0  15500000   \n",
      "3                                   Rohini Sector 24      1.0   4200000   \n",
      "4  Rohini Sector 24 carpet area 650 sqft status R...      1.0   6200000   \n",
      "\n",
      "          Status   Transaction           Type  \n",
      "0  Ready_to_move  New_Property  Builder_Floor  \n",
      "1  Ready_to_move  New_Property      Apartment  \n",
      "2  Ready_to_move        Resale      Apartment  \n",
      "3  Ready_to_move        Resale  Builder_Floor  \n",
      "4  Ready_to_move  New_Property  Builder_Floor  \n"
     ]
    }
   ],
   "source": [
    "print(data.head())"
   ]
  },
  {
   "cell_type": "code",
   "execution_count": 4,
   "id": "0cde6dc7-a42b-4af4-ba58-f17c145724b3",
   "metadata": {},
   "outputs": [
    {
     "data": {
      "text/plain": [
       "(1259, 10)"
      ]
     },
     "execution_count": 4,
     "metadata": {},
     "output_type": "execute_result"
    }
   ],
   "source": [
    "data.shape"
   ]
  },
  {
   "cell_type": "code",
   "execution_count": 5,
   "id": "3d9884e7-cc39-419f-b053-90095118db5a",
   "metadata": {},
   "outputs": [
    {
     "name": "stdout",
     "output_type": "stream",
     "text": [
      "<class 'pandas.core.frame.DataFrame'>\n",
      "RangeIndex: 1259 entries, 0 to 1258\n",
      "Data columns (total 10 columns):\n",
      " #   Column       Non-Null Count  Dtype  \n",
      "---  ------       --------------  -----  \n",
      " 0   Area         1259 non-null   float64\n",
      " 1   BHK          1259 non-null   int64  \n",
      " 2   Bathroom     1257 non-null   float64\n",
      " 3   Furnishing   1254 non-null   object \n",
      " 4   Locality     1259 non-null   object \n",
      " 5   Parking      1226 non-null   float64\n",
      " 6   Price        1259 non-null   int64  \n",
      " 7   Status       1259 non-null   object \n",
      " 8   Transaction  1259 non-null   object \n",
      " 9   Type         1254 non-null   object \n",
      "dtypes: float64(3), int64(2), object(5)\n",
      "memory usage: 98.5+ KB\n"
     ]
    }
   ],
   "source": [
    "data.info()"
   ]
  },
  {
   "cell_type": "code",
   "execution_count": 6,
   "id": "f0e5b70f-06ab-4148-bfec-b1256d130df0",
   "metadata": {},
   "outputs": [
    {
     "data": {
      "text/plain": [
       "Area            0\n",
       "BHK             0\n",
       "Bathroom        2\n",
       "Furnishing      5\n",
       "Locality        0\n",
       "Parking        33\n",
       "Price           0\n",
       "Status          0\n",
       "Transaction     0\n",
       "Type            5\n",
       "dtype: int64"
      ]
     },
     "execution_count": 6,
     "metadata": {},
     "output_type": "execute_result"
    }
   ],
   "source": [
    "data.isna().sum()"
   ]
  },
  {
   "cell_type": "code",
   "execution_count": 7,
   "id": "e54374ac-1f21-4974-833d-ba840b7e211e",
   "metadata": {},
   "outputs": [],
   "source": [
    "data.drop(columns=['Furnishing','Parking','Status','Type'],inplace=True)"
   ]
  },
  {
   "cell_type": "code",
   "execution_count": 8,
   "id": "cda74d07-147f-4769-9141-872231afc0f8",
   "metadata": {},
   "outputs": [
    {
     "data": {
      "text/html": [
       "<div>\n",
       "<style scoped>\n",
       "    .dataframe tbody tr th:only-of-type {\n",
       "        vertical-align: middle;\n",
       "    }\n",
       "\n",
       "    .dataframe tbody tr th {\n",
       "        vertical-align: top;\n",
       "    }\n",
       "\n",
       "    .dataframe thead th {\n",
       "        text-align: right;\n",
       "    }\n",
       "</style>\n",
       "<table border=\"1\" class=\"dataframe\">\n",
       "  <thead>\n",
       "    <tr style=\"text-align: right;\">\n",
       "      <th></th>\n",
       "      <th>Area</th>\n",
       "      <th>BHK</th>\n",
       "      <th>Bathroom</th>\n",
       "      <th>Price</th>\n",
       "    </tr>\n",
       "  </thead>\n",
       "  <tbody>\n",
       "    <tr>\n",
       "      <th>count</th>\n",
       "      <td>1259.000000</td>\n",
       "      <td>1259.000000</td>\n",
       "      <td>1257.000000</td>\n",
       "      <td>1.259000e+03</td>\n",
       "    </tr>\n",
       "    <tr>\n",
       "      <th>mean</th>\n",
       "      <td>1466.452724</td>\n",
       "      <td>2.796664</td>\n",
       "      <td>2.556086</td>\n",
       "      <td>2.130670e+07</td>\n",
       "    </tr>\n",
       "    <tr>\n",
       "      <th>std</th>\n",
       "      <td>1568.055040</td>\n",
       "      <td>0.954425</td>\n",
       "      <td>1.042220</td>\n",
       "      <td>2.560115e+07</td>\n",
       "    </tr>\n",
       "    <tr>\n",
       "      <th>min</th>\n",
       "      <td>28.000000</td>\n",
       "      <td>1.000000</td>\n",
       "      <td>1.000000</td>\n",
       "      <td>1.000000e+06</td>\n",
       "    </tr>\n",
       "    <tr>\n",
       "      <th>25%</th>\n",
       "      <td>800.000000</td>\n",
       "      <td>2.000000</td>\n",
       "      <td>2.000000</td>\n",
       "      <td>5.700000e+06</td>\n",
       "    </tr>\n",
       "    <tr>\n",
       "      <th>50%</th>\n",
       "      <td>1200.000000</td>\n",
       "      <td>3.000000</td>\n",
       "      <td>2.000000</td>\n",
       "      <td>1.420000e+07</td>\n",
       "    </tr>\n",
       "    <tr>\n",
       "      <th>75%</th>\n",
       "      <td>1700.000000</td>\n",
       "      <td>3.000000</td>\n",
       "      <td>3.000000</td>\n",
       "      <td>2.550000e+07</td>\n",
       "    </tr>\n",
       "    <tr>\n",
       "      <th>max</th>\n",
       "      <td>24300.000000</td>\n",
       "      <td>10.000000</td>\n",
       "      <td>7.000000</td>\n",
       "      <td>2.400000e+08</td>\n",
       "    </tr>\n",
       "  </tbody>\n",
       "</table>\n",
       "</div>"
      ],
      "text/plain": [
       "               Area          BHK     Bathroom         Price\n",
       "count   1259.000000  1259.000000  1257.000000  1.259000e+03\n",
       "mean    1466.452724     2.796664     2.556086  2.130670e+07\n",
       "std     1568.055040     0.954425     1.042220  2.560115e+07\n",
       "min       28.000000     1.000000     1.000000  1.000000e+06\n",
       "25%      800.000000     2.000000     2.000000  5.700000e+06\n",
       "50%     1200.000000     3.000000     2.000000  1.420000e+07\n",
       "75%     1700.000000     3.000000     3.000000  2.550000e+07\n",
       "max    24300.000000    10.000000     7.000000  2.400000e+08"
      ]
     },
     "execution_count": 8,
     "metadata": {},
     "output_type": "execute_result"
    }
   ],
   "source": [
    "data.describe()"
   ]
  },
  {
   "cell_type": "code",
   "execution_count": 9,
   "id": "e72c3993-ace0-4daa-9988-49bc08e97b28",
   "metadata": {},
   "outputs": [
    {
     "name": "stdout",
     "output_type": "stream",
     "text": [
      "<class 'pandas.core.frame.DataFrame'>\n",
      "RangeIndex: 1259 entries, 0 to 1258\n",
      "Data columns (total 6 columns):\n",
      " #   Column       Non-Null Count  Dtype  \n",
      "---  ------       --------------  -----  \n",
      " 0   Area         1259 non-null   float64\n",
      " 1   BHK          1259 non-null   int64  \n",
      " 2   Bathroom     1257 non-null   float64\n",
      " 3   Locality     1259 non-null   object \n",
      " 4   Price        1259 non-null   int64  \n",
      " 5   Transaction  1259 non-null   object \n",
      "dtypes: float64(2), int64(2), object(2)\n",
      "memory usage: 59.1+ KB\n"
     ]
    }
   ],
   "source": [
    "data.info()\n"
   ]
  },
  {
   "cell_type": "code",
   "execution_count": 10,
   "id": "f23a6ef9-12ae-4f50-b240-101ab908fb15",
   "metadata": {},
   "outputs": [
    {
     "data": {
      "text/plain": [
       "Bathroom\n",
       "2.0    551\n",
       "3.0    355\n",
       "1.0    146\n",
       "4.0    138\n",
       "5.0     57\n",
       "6.0      7\n",
       "7.0      3\n",
       "Name: count, dtype: int64"
      ]
     },
     "execution_count": 10,
     "metadata": {},
     "output_type": "execute_result"
    }
   ],
   "source": [
    "data['Bathroom'].value_counts()"
   ]
  },
  {
   "cell_type": "code",
   "execution_count": 11,
   "id": "94a49239-7908-49f2-8c0f-14b04cd33317",
   "metadata": {},
   "outputs": [],
   "source": [
    "data['Bathroom']=data['Bathroom'].fillna('2.0')"
   ]
  },
  {
   "cell_type": "code",
   "execution_count": 12,
   "id": "32122f11-06f9-4cc1-8845-65db9f9890a5",
   "metadata": {},
   "outputs": [
    {
     "name": "stdout",
     "output_type": "stream",
     "text": [
      "<class 'pandas.core.frame.DataFrame'>\n",
      "RangeIndex: 1259 entries, 0 to 1258\n",
      "Data columns (total 6 columns):\n",
      " #   Column       Non-Null Count  Dtype  \n",
      "---  ------       --------------  -----  \n",
      " 0   Area         1259 non-null   float64\n",
      " 1   BHK          1259 non-null   int64  \n",
      " 2   Bathroom     1259 non-null   object \n",
      " 3   Locality     1259 non-null   object \n",
      " 4   Price        1259 non-null   int64  \n",
      " 5   Transaction  1259 non-null   object \n",
      "dtypes: float64(1), int64(2), object(3)\n",
      "memory usage: 59.1+ KB\n"
     ]
    }
   ],
   "source": [
    "data.info()"
   ]
  },
  {
   "cell_type": "code",
   "execution_count": 13,
   "id": "431aa079-b8b6-431c-a418-45b21207778d",
   "metadata": {},
   "outputs": [],
   "source": [
    "X=data[['Area','BHK','Bathroom','Locality','Transaction']]\n",
    "Y=data['Price']"
   ]
  },
  {
   "cell_type": "code",
   "execution_count": null,
   "id": "cf369fb7-5588-4e17-882f-4cf1429cfdec",
   "metadata": {},
   "outputs": [],
   "source": []
  }
 ],
 "metadata": {
  "kernelspec": {
   "display_name": "Python 3 (ipykernel)",
   "language": "python",
   "name": "python3"
  },
  "language_info": {
   "codemirror_mode": {
    "name": "ipython",
    "version": 3
   },
   "file_extension": ".py",
   "mimetype": "text/x-python",
   "name": "python",
   "nbconvert_exporter": "python",
   "pygments_lexer": "ipython3",
   "version": "3.10.2"
  }
 },
 "nbformat": 4,
 "nbformat_minor": 5
}
