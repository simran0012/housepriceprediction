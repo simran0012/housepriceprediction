{
 "cells": [
  {
   "cell_type": "code",
   "execution_count": 120,
   "id": "33e3343c-85a8-4d52-a011-2df2b90c75bd",
   "metadata": {},
   "outputs": [],
   "source": [
    "import pandas as pd\n",
    "import numpy as np\n",
    "import matplotlib.pyplot as plt"
   ]
  },
  {
   "cell_type": "code",
   "execution_count": 121,
   "id": "8f117348-f183-45fc-a3fa-b7ad4ffb3014",
   "metadata": {},
   "outputs": [],
   "source": [
    "data=pd.read_csv('delhidataset.csv')"
   ]
  },
  {
   "cell_type": "code",
   "execution_count": 122,
   "id": "c72fcefd-38dd-4828-8f18-308850165546",
   "metadata": {},
   "outputs": [
    {
     "name": "stdout",
     "output_type": "stream",
     "text": [
      "    Area  BHK  Bathroom      Furnishing  \\\n",
      "0  800.0    3       2.0  Semi-Furnished   \n",
      "1  750.0    2       2.0  Semi-Furnished   \n",
      "2  950.0    2       2.0       Furnished   \n",
      "3  600.0    2       2.0  Semi-Furnished   \n",
      "4  650.0    2       2.0  Semi-Furnished   \n",
      "\n",
      "                                            Locality  Parking     Price  \\\n",
      "0                                   Rohini Sector 25      1.0   6500000   \n",
      "1             J R Designers Floors, Rohini Sector 24      1.0   5000000   \n",
      "2                Citizen Apartment, Rohini Sector 13      1.0  15500000   \n",
      "3                                   Rohini Sector 24      1.0   4200000   \n",
      "4  Rohini Sector 24 carpet area 650 sqft status R...      1.0   6200000   \n",
      "\n",
      "          Status   Transaction           Type  \n",
      "0  Ready_to_move  New_Property  Builder_Floor  \n",
      "1  Ready_to_move  New_Property      Apartment  \n",
      "2  Ready_to_move        Resale      Apartment  \n",
      "3  Ready_to_move        Resale  Builder_Floor  \n",
      "4  Ready_to_move  New_Property  Builder_Floor  \n"
     ]
    }
   ],
   "source": [
    "print(data.head())"
   ]
  },
  {
   "cell_type": "code",
   "execution_count": 123,
   "id": "0cde6dc7-a42b-4af4-ba58-f17c145724b3",
   "metadata": {},
   "outputs": [
    {
     "data": {
      "text/plain": [
       "(1259, 10)"
      ]
     },
     "execution_count": 123,
     "metadata": {},
     "output_type": "execute_result"
    }
   ],
   "source": [
    "data.shape"
   ]
  },
  {
   "cell_type": "code",
   "execution_count": 124,
   "id": "3d9884e7-cc39-419f-b053-90095118db5a",
   "metadata": {},
   "outputs": [
    {
     "name": "stdout",
     "output_type": "stream",
     "text": [
      "<class 'pandas.core.frame.DataFrame'>\n",
      "RangeIndex: 1259 entries, 0 to 1258\n",
      "Data columns (total 10 columns):\n",
      " #   Column       Non-Null Count  Dtype  \n",
      "---  ------       --------------  -----  \n",
      " 0   Area         1259 non-null   float64\n",
      " 1   BHK          1259 non-null   int64  \n",
      " 2   Bathroom     1257 non-null   float64\n",
      " 3   Furnishing   1254 non-null   object \n",
      " 4   Locality     1259 non-null   object \n",
      " 5   Parking      1226 non-null   float64\n",
      " 6   Price        1259 non-null   int64  \n",
      " 7   Status       1259 non-null   object \n",
      " 8   Transaction  1259 non-null   object \n",
      " 9   Type         1254 non-null   object \n",
      "dtypes: float64(3), int64(2), object(5)\n",
      "memory usage: 98.5+ KB\n"
     ]
    }
   ],
   "source": [
    "data.info()"
   ]
  },
  {
   "cell_type": "code",
   "execution_count": 125,
   "id": "f0e5b70f-06ab-4148-bfec-b1256d130df0",
   "metadata": {},
   "outputs": [
    {
     "data": {
      "text/plain": [
       "Area            0\n",
       "BHK             0\n",
       "Bathroom        2\n",
       "Furnishing      5\n",
       "Locality        0\n",
       "Parking        33\n",
       "Price           0\n",
       "Status          0\n",
       "Transaction     0\n",
       "Type            5\n",
       "dtype: int64"
      ]
     },
     "execution_count": 125,
     "metadata": {},
     "output_type": "execute_result"
    }
   ],
   "source": [
    "data.isna().sum()"
   ]
  },
  {
   "cell_type": "code",
   "execution_count": 126,
   "id": "e54374ac-1f21-4974-833d-ba840b7e211e",
   "metadata": {},
   "outputs": [],
   "source": [
    "data.drop(columns=['Furnishing','Status','Type'],inplace=True)"
   ]
  },
  {
   "cell_type": "code",
   "execution_count": 127,
   "id": "cda74d07-147f-4769-9141-872231afc0f8",
   "metadata": {},
   "outputs": [
    {
     "data": {
      "text/html": [
       "<div>\n",
       "<style scoped>\n",
       "    .dataframe tbody tr th:only-of-type {\n",
       "        vertical-align: middle;\n",
       "    }\n",
       "\n",
       "    .dataframe tbody tr th {\n",
       "        vertical-align: top;\n",
       "    }\n",
       "\n",
       "    .dataframe thead th {\n",
       "        text-align: right;\n",
       "    }\n",
       "</style>\n",
       "<table border=\"1\" class=\"dataframe\">\n",
       "  <thead>\n",
       "    <tr style=\"text-align: right;\">\n",
       "      <th></th>\n",
       "      <th>Area</th>\n",
       "      <th>BHK</th>\n",
       "      <th>Bathroom</th>\n",
       "      <th>Parking</th>\n",
       "      <th>Price</th>\n",
       "    </tr>\n",
       "  </thead>\n",
       "  <tbody>\n",
       "    <tr>\n",
       "      <th>count</th>\n",
       "      <td>1259.000000</td>\n",
       "      <td>1259.000000</td>\n",
       "      <td>1257.000000</td>\n",
       "      <td>1226.000000</td>\n",
       "      <td>1.259000e+03</td>\n",
       "    </tr>\n",
       "    <tr>\n",
       "      <th>mean</th>\n",
       "      <td>1466.452724</td>\n",
       "      <td>2.796664</td>\n",
       "      <td>2.556086</td>\n",
       "      <td>1.935563</td>\n",
       "      <td>2.130670e+07</td>\n",
       "    </tr>\n",
       "    <tr>\n",
       "      <th>std</th>\n",
       "      <td>1568.055040</td>\n",
       "      <td>0.954425</td>\n",
       "      <td>1.042220</td>\n",
       "      <td>6.279212</td>\n",
       "      <td>2.560115e+07</td>\n",
       "    </tr>\n",
       "    <tr>\n",
       "      <th>min</th>\n",
       "      <td>28.000000</td>\n",
       "      <td>1.000000</td>\n",
       "      <td>1.000000</td>\n",
       "      <td>1.000000</td>\n",
       "      <td>1.000000e+06</td>\n",
       "    </tr>\n",
       "    <tr>\n",
       "      <th>25%</th>\n",
       "      <td>800.000000</td>\n",
       "      <td>2.000000</td>\n",
       "      <td>2.000000</td>\n",
       "      <td>1.000000</td>\n",
       "      <td>5.700000e+06</td>\n",
       "    </tr>\n",
       "    <tr>\n",
       "      <th>50%</th>\n",
       "      <td>1200.000000</td>\n",
       "      <td>3.000000</td>\n",
       "      <td>2.000000</td>\n",
       "      <td>1.000000</td>\n",
       "      <td>1.420000e+07</td>\n",
       "    </tr>\n",
       "    <tr>\n",
       "      <th>75%</th>\n",
       "      <td>1700.000000</td>\n",
       "      <td>3.000000</td>\n",
       "      <td>3.000000</td>\n",
       "      <td>2.000000</td>\n",
       "      <td>2.550000e+07</td>\n",
       "    </tr>\n",
       "    <tr>\n",
       "      <th>max</th>\n",
       "      <td>24300.000000</td>\n",
       "      <td>10.000000</td>\n",
       "      <td>7.000000</td>\n",
       "      <td>114.000000</td>\n",
       "      <td>2.400000e+08</td>\n",
       "    </tr>\n",
       "  </tbody>\n",
       "</table>\n",
       "</div>"
      ],
      "text/plain": [
       "               Area          BHK     Bathroom      Parking         Price\n",
       "count   1259.000000  1259.000000  1257.000000  1226.000000  1.259000e+03\n",
       "mean    1466.452724     2.796664     2.556086     1.935563  2.130670e+07\n",
       "std     1568.055040     0.954425     1.042220     6.279212  2.560115e+07\n",
       "min       28.000000     1.000000     1.000000     1.000000  1.000000e+06\n",
       "25%      800.000000     2.000000     2.000000     1.000000  5.700000e+06\n",
       "50%     1200.000000     3.000000     2.000000     1.000000  1.420000e+07\n",
       "75%     1700.000000     3.000000     3.000000     2.000000  2.550000e+07\n",
       "max    24300.000000    10.000000     7.000000   114.000000  2.400000e+08"
      ]
     },
     "execution_count": 127,
     "metadata": {},
     "output_type": "execute_result"
    }
   ],
   "source": [
    "data.describe()"
   ]
  },
  {
   "cell_type": "code",
   "execution_count": 128,
   "id": "e72c3993-ace0-4daa-9988-49bc08e97b28",
   "metadata": {},
   "outputs": [
    {
     "name": "stdout",
     "output_type": "stream",
     "text": [
      "<class 'pandas.core.frame.DataFrame'>\n",
      "RangeIndex: 1259 entries, 0 to 1258\n",
      "Data columns (total 7 columns):\n",
      " #   Column       Non-Null Count  Dtype  \n",
      "---  ------       --------------  -----  \n",
      " 0   Area         1259 non-null   float64\n",
      " 1   BHK          1259 non-null   int64  \n",
      " 2   Bathroom     1257 non-null   float64\n",
      " 3   Locality     1259 non-null   object \n",
      " 4   Parking      1226 non-null   float64\n",
      " 5   Price        1259 non-null   int64  \n",
      " 6   Transaction  1259 non-null   object \n",
      "dtypes: float64(3), int64(2), object(2)\n",
      "memory usage: 69.0+ KB\n"
     ]
    }
   ],
   "source": [
    "data.info()\n"
   ]
  },
  {
   "cell_type": "code",
   "execution_count": 129,
   "id": "f23a6ef9-12ae-4f50-b240-101ab908fb15",
   "metadata": {},
   "outputs": [
    {
     "data": {
      "text/plain": [
       "Bathroom\n",
       "2.0    551\n",
       "3.0    355\n",
       "1.0    146\n",
       "4.0    138\n",
       "5.0     57\n",
       "6.0      7\n",
       "7.0      3\n",
       "Name: count, dtype: int64"
      ]
     },
     "execution_count": 129,
     "metadata": {},
     "output_type": "execute_result"
    }
   ],
   "source": [
    "data['Bathroom'].value_counts()"
   ]
  },
  {
   "cell_type": "code",
   "execution_count": 130,
   "id": "94a49239-7908-49f2-8c0f-14b04cd33317",
   "metadata": {},
   "outputs": [],
   "source": [
    "data['Bathroom']=data['Bathroom'].fillna('2.0')"
   ]
  },
  {
   "cell_type": "code",
   "execution_count": 131,
   "id": "d3e13cf8-0239-44f6-af22-f5ad83af0cc5",
   "metadata": {},
   "outputs": [
    {
     "data": {
      "text/plain": [
       "Parking\n",
       "1.0      796\n",
       "2.0      341\n",
       "3.0       54\n",
       "4.0       16\n",
       "5.0        7\n",
       "39.0       7\n",
       "114.0      3\n",
       "9.0        1\n",
       "10.0       1\n",
       "Name: count, dtype: int64"
      ]
     },
     "execution_count": 131,
     "metadata": {},
     "output_type": "execute_result"
    }
   ],
   "source": [
    "data['Parking'].value_counts()"
   ]
  },
  {
   "cell_type": "code",
   "execution_count": 132,
   "id": "2649d0e4-88f1-4ef4-a62d-0b771131c059",
   "metadata": {},
   "outputs": [],
   "source": [
    "data['Parking']=data['Parking'].fillna('1.0')"
   ]
  },
  {
   "cell_type": "code",
   "execution_count": 133,
   "id": "32122f11-06f9-4cc1-8845-65db9f9890a5",
   "metadata": {},
   "outputs": [
    {
     "name": "stdout",
     "output_type": "stream",
     "text": [
      "<class 'pandas.core.frame.DataFrame'>\n",
      "RangeIndex: 1259 entries, 0 to 1258\n",
      "Data columns (total 7 columns):\n",
      " #   Column       Non-Null Count  Dtype  \n",
      "---  ------       --------------  -----  \n",
      " 0   Area         1259 non-null   float64\n",
      " 1   BHK          1259 non-null   int64  \n",
      " 2   Bathroom     1259 non-null   object \n",
      " 3   Locality     1259 non-null   object \n",
      " 4   Parking      1259 non-null   object \n",
      " 5   Price        1259 non-null   int64  \n",
      " 6   Transaction  1259 non-null   object \n",
      "dtypes: float64(1), int64(2), object(4)\n",
      "memory usage: 69.0+ KB\n"
     ]
    }
   ],
   "source": [
    "data.info()"
   ]
  },
  {
   "cell_type": "code",
   "execution_count": 134,
   "id": "cf369fb7-5588-4e17-882f-4cf1429cfdec",
   "metadata": {},
   "outputs": [],
   "source": [
    "from sklearn.model_selection import train_test_split"
   ]
  },
  {
   "cell_type": "code",
   "execution_count": 135,
   "id": "9a7d2139-d17c-4d84-a8fa-5a78cf4dbc92",
   "metadata": {},
   "outputs": [],
   "source": [
    "X=data[['Area','BHK','Bathroom','Locality']]\n",
    "Y=data['Price']"
   ]
  },
  {
   "cell_type": "code",
   "execution_count": 136,
   "id": "b1da0599-936e-4e37-b694-3cc6aafb2baf",
   "metadata": {},
   "outputs": [],
   "source": [
    "X_train,X_test,Y_train,Y_test=train_test_split(X,Y,test_size=0.2,random_state=0)"
   ]
  },
  {
   "cell_type": "code",
   "execution_count": 137,
   "id": "25278ef4-b18e-4012-abc5-39bf7cf67921",
   "metadata": {},
   "outputs": [
    {
     "data": {
      "text/html": [
       "<div>\n",
       "<style scoped>\n",
       "    .dataframe tbody tr th:only-of-type {\n",
       "        vertical-align: middle;\n",
       "    }\n",
       "\n",
       "    .dataframe tbody tr th {\n",
       "        vertical-align: top;\n",
       "    }\n",
       "\n",
       "    .dataframe thead th {\n",
       "        text-align: right;\n",
       "    }\n",
       "</style>\n",
       "<table border=\"1\" class=\"dataframe\">\n",
       "  <thead>\n",
       "    <tr style=\"text-align: right;\">\n",
       "      <th></th>\n",
       "      <th>Area</th>\n",
       "      <th>BHK</th>\n",
       "      <th>Bathroom</th>\n",
       "      <th>Parking</th>\n",
       "    </tr>\n",
       "  </thead>\n",
       "  <tbody>\n",
       "    <tr>\n",
       "      <th>159</th>\n",
       "      <td>500.0</td>\n",
       "      <td>2</td>\n",
       "      <td>1.0</td>\n",
       "      <td>1.0</td>\n",
       "      <td>Budh Vihar Phase 1</td>\n",
       "      <td>Resale</td>\n",
       "    </tr>\n",
       "    <tr>\n",
       "      <th>435</th>\n",
       "      <td>1500.0</td>\n",
       "      <td>3</td>\n",
       "      <td>3.0</td>\n",
       "      <td>2.0</td>\n",
       "      <td>Patel Nagar West</td>\n",
       "      <td>Resale</td>\n",
       "    </tr>\n",
       "    <tr>\n",
       "      <th>554</th>\n",
       "      <td>1300.0</td>\n",
       "      <td>3</td>\n",
       "      <td>3.0</td>\n",
       "      <td>3.0</td>\n",
       "      <td>Saket</td>\n",
       "      <td>Resale</td>\n",
       "    </tr>\n",
       "    <tr>\n",
       "      <th>1013</th>\n",
       "      <td>750.0</td>\n",
       "      <td>3</td>\n",
       "      <td>2.0</td>\n",
       "      <td>1.0</td>\n",
       "      <td>Batla House Project, Batla House, Okhla</td>\n",
       "      <td>Resale</td>\n",
       "    </tr>\n",
       "    <tr>\n",
       "      <th>935</th>\n",
       "      <td>400.0</td>\n",
       "      <td>1</td>\n",
       "      <td>1.0</td>\n",
       "      <td>1.0</td>\n",
       "      <td>Dilshad Colony, Dilshad Garden</td>\n",
       "      <td>Resale</td>\n",
       "    </tr>\n",
       "    <tr>\n",
       "      <th>...</th>\n",
       "      <td>...</td>\n",
       "      <td>...</td>\n",
       "      <td>...</td>\n",
       "      <td>...</td>\n",
       "      <td>...</td>\n",
       "      <td>...</td>\n",
       "    </tr>\n",
       "    <tr>\n",
       "      <th>763</th>\n",
       "      <td>700.0</td>\n",
       "      <td>2</td>\n",
       "      <td>2.0</td>\n",
       "      <td>1.0</td>\n",
       "      <td>New Manglapuri, Sultanpur</td>\n",
       "      <td>Resale</td>\n",
       "    </tr>\n",
       "    <tr>\n",
       "      <th>835</th>\n",
       "      <td>450.0</td>\n",
       "      <td>1</td>\n",
       "      <td>1.0</td>\n",
       "      <td>1.0</td>\n",
       "      <td>Brijwasi Colony, Mehrauli</td>\n",
       "      <td>Resale</td>\n",
       "    </tr>\n",
       "    <tr>\n",
       "      <th>1216</th>\n",
       "      <td>2250.0</td>\n",
       "      <td>4</td>\n",
       "      <td>4.0</td>\n",
       "      <td>3.0</td>\n",
       "      <td>Hauz Khas Enclave, Hauz Khas</td>\n",
       "      <td>New_Property</td>\n",
       "    </tr>\n",
       "    <tr>\n",
       "      <th>559</th>\n",
       "      <td>2700.0</td>\n",
       "      <td>4</td>\n",
       "      <td>4.0</td>\n",
       "      <td>2.0</td>\n",
       "      <td>Saket</td>\n",
       "      <td>New_Property</td>\n",
       "    </tr>\n",
       "    <tr>\n",
       "      <th>684</th>\n",
       "      <td>3100.0</td>\n",
       "      <td>5</td>\n",
       "      <td>5.0</td>\n",
       "      <td>3.0</td>\n",
       "      <td>Common Wealth Games Village, Commonwealth Game...</td>\n",
       "      <td>Resale</td>\n",
       "    </tr>\n",
       "  </tbody>\n",
       "</table>\n",
       "<p>1007 rows × 6 columns</p>\n",
       "</div>"
      ],
      "text/plain": [
       "        Area  BHK Bathroom Parking  \\\n",
       "159    500.0    2      1.0     1.0   \n",
       "435   1500.0    3      3.0     2.0   \n",
       "554   1300.0    3      3.0     3.0   \n",
       "1013   750.0    3      2.0     1.0   \n",
       "935    400.0    1      1.0     1.0   \n",
       "...      ...  ...      ...     ...   \n",
       "763    700.0    2      2.0     1.0   \n",
       "835    450.0    1      1.0     1.0   \n",
       "1216  2250.0    4      4.0     3.0   \n",
       "559   2700.0    4      4.0     2.0   \n",
       "684   3100.0    5      5.0     3.0   \n",
       "\n",
       "                                               Locality   Transaction  \n",
       "159                                  Budh Vihar Phase 1        Resale  \n",
       "435                                    Patel Nagar West        Resale  \n",
       "554                                               Saket        Resale  \n",
       "1013            Batla House Project, Batla House, Okhla        Resale  \n",
       "935                      Dilshad Colony, Dilshad Garden        Resale  \n",
       "...                                                 ...           ...  \n",
       "763                           New Manglapuri, Sultanpur        Resale  \n",
       "835                           Brijwasi Colony, Mehrauli        Resale  \n",
       "1216                       Hauz Khas Enclave, Hauz Khas  New_Property  \n",
       "559                                               Saket  New_Property  \n",
       "684   Common Wealth Games Village, Commonwealth Game...        Resale  \n",
       "\n",
       "[1007 rows x 6 columns]"
      ]
     },
     "execution_count": 137,
     "metadata": {},
     "output_type": "execute_result"
    }
   ],
   "source": [
    "X_train"
   ]
  },
  {
   "cell_type": "code",
   "execution_count": 151,
   "id": "dcf33be6-a1be-4f00-ba02-217b9a8933d4",
   "metadata": {},
   "outputs": [],
   "source": [
    "from sklearn.compose import make_column_transformer\n",
    "from sklearn.pipeline import make_pipeline\n",
    "from sklearn.preprocessing import OneHotEncoder, StandardScaler\n",
    "from sklearn.metrics import r2_score"
   ]
  },
  {
   "cell_type": "code",
   "execution_count": 180,
   "id": "0c10ac44-000f-45c5-977e-6de5c9e325ec",
   "metadata": {},
   "outputs": [],
   "source": [
    "from sklearn.linear_model import LinearRegression, Ridge, Lasso\n",
    "from sklearn.tree import DecisionTreeRegressor\n",
    "from sklearn.ensemble import RandomForestRegressor"
   ]
  },
  {
   "cell_type": "code",
   "execution_count": 167,
   "id": "bcb285d0-a723-487f-8a2f-20460e1bbb53",
   "metadata": {},
   "outputs": [],
   "source": [
    "#Apply Linear Regression"
   ]
  },
  {
   "cell_type": "code",
   "execution_count": 168,
   "id": "f7ccf746-8472-4fd3-ae54-fadc6d513804",
   "metadata": {},
   "outputs": [
    {
     "name": "stderr",
     "output_type": "stream",
     "text": [
      "C:\\Users\\Utkarsh\\AppData\\Local\\Programs\\Python\\Python310\\lib\\site-packages\\sklearn\\preprocessing\\_encoders.py:975: FutureWarning: `sparse` was renamed to `sparse_output` in version 1.2 and will be removed in 1.4. `sparse_output` is ignored unless you leave `sparse` to its default value.\n",
      "  warnings.warn(\n",
      "C:\\Users\\Utkarsh\\AppData\\Local\\Programs\\Python\\Python310\\lib\\site-packages\\sklearn\\preprocessing\\_encoders.py:228: UserWarning: Found unknown categories in columns [0] during transform. These unknown categories will be encoded as all zeros\n",
      "  warnings.warn(\n"
     ]
    },
    {
     "data": {
      "text/plain": [
       "0.44278514609389075"
      ]
     },
     "execution_count": 168,
     "metadata": {},
     "output_type": "execute_result"
    }
   ],
   "source": [
    "ln=LinearRegression()\n",
    "ln.fit(X_train,Y_train)\n",
    "predictions=ln.predict(X_test)\n",
    "score=r2_score(Y_test,predictions)\n",
    "score"
   ]
  },
  {
   "cell_type": "code",
   "execution_count": 161,
   "id": "2ade12b3-0dbb-4bba-9a0a-426205adcd6a",
   "metadata": {},
   "outputs": [],
   "source": [
    "#Ridge Regression"
   ]
  },
  {
   "cell_type": "code",
   "execution_count": 162,
   "id": "486e46dc-0813-46de-ad61-eae9a558d43a",
   "metadata": {},
   "outputs": [
    {
     "name": "stderr",
     "output_type": "stream",
     "text": [
      "C:\\Users\\Utkarsh\\AppData\\Local\\Programs\\Python\\Python310\\lib\\site-packages\\sklearn\\preprocessing\\_encoders.py:975: FutureWarning: `sparse` was renamed to `sparse_output` in version 1.2 and will be removed in 1.4. `sparse_output` is ignored unless you leave `sparse` to its default value.\n",
      "  warnings.warn(\n",
      "C:\\Users\\Utkarsh\\AppData\\Local\\Programs\\Python\\Python310\\lib\\site-packages\\sklearn\\preprocessing\\_encoders.py:228: UserWarning: Found unknown categories in columns [0] during transform. These unknown categories will be encoded as all zeros\n",
      "  warnings.warn(\n"
     ]
    },
    {
     "data": {
      "text/plain": [
       "0.7804168112853741"
      ]
     },
     "execution_count": 162,
     "metadata": {},
     "output_type": "execute_result"
    }
   ],
   "source": [
    "column_trans=make_column_transformer((OneHotEncoder(drop='first',sparse=False,handle_unknown='ignore'),['Locality','Transaction']),remainder='passthrough')\n",
    "scaler=StandardScaler()\n",
    "rd=Ridge(alpha=10)\n",
    "pipe=make_pipeline(column_trans,scaler,rd)\n",
    "pipe.fit(X_train,Y_train)\n",
    "predictions=pipe.predict(X_test)\n",
    "score=r2_score(Y_test,predictions)\n",
    "score"
   ]
  },
  {
   "cell_type": "code",
   "execution_count": 163,
   "id": "da9d7e6c-8439-4ea0-9ba1-35bd760fe394",
   "metadata": {},
   "outputs": [],
   "source": [
    "#Lasso Regression"
   ]
  },
  {
   "cell_type": "code",
   "execution_count": 164,
   "id": "794b3541-f0b7-49c9-ad36-a6b2a51db549",
   "metadata": {},
   "outputs": [
    {
     "name": "stderr",
     "output_type": "stream",
     "text": [
      "C:\\Users\\Utkarsh\\AppData\\Local\\Programs\\Python\\Python310\\lib\\site-packages\\sklearn\\preprocessing\\_encoders.py:975: FutureWarning: `sparse` was renamed to `sparse_output` in version 1.2 and will be removed in 1.4. `sparse_output` is ignored unless you leave `sparse` to its default value.\n",
      "  warnings.warn(\n",
      "C:\\Users\\Utkarsh\\AppData\\Local\\Programs\\Python\\Python310\\lib\\site-packages\\sklearn\\preprocessing\\_encoders.py:228: UserWarning: Found unknown categories in columns [0] during transform. These unknown categories will be encoded as all zeros\n",
      "  warnings.warn(\n"
     ]
    },
    {
     "data": {
      "text/plain": [
       "0.7804168112853741"
      ]
     },
     "execution_count": 164,
     "metadata": {},
     "output_type": "execute_result"
    }
   ],
   "source": [
    "column_trans=make_column_transformer((OneHotEncoder(drop='first',sparse=False,handle_unknown='ignore'),['Locality','Transaction']),remainder='passthrough')\n",
    "scaler=StandardScaler()\n",
    "ls=Lasso(alpha=0.001)\n",
    "pipe=make_pipeline(column_trans,scaler,rd)\n",
    "pipe.fit(X_train,Y_train)\n",
    "predictions=pipe.predict(X_test)\n",
    "score=r2_score(Y_test,predictions)\n",
    "score"
   ]
  },
  {
   "cell_type": "code",
   "execution_count": null,
   "id": "037ba9b6-758e-4da2-a767-0b3e5056ba9f",
   "metadata": {},
   "outputs": [],
   "source": [
    "#Decision Tree Regression"
   ]
  },
  {
   "cell_type": "code",
   "execution_count": 179,
   "id": "e32a764a-a72f-4605-a919-bbe1eefa1eab",
   "metadata": {},
   "outputs": [
    {
     "name": "stderr",
     "output_type": "stream",
     "text": [
      "C:\\Users\\Utkarsh\\AppData\\Local\\Programs\\Python\\Python310\\lib\\site-packages\\sklearn\\preprocessing\\_encoders.py:975: FutureWarning: `sparse` was renamed to `sparse_output` in version 1.2 and will be removed in 1.4. `sparse_output` is ignored unless you leave `sparse` to its default value.\n",
      "  warnings.warn(\n",
      "C:\\Users\\Utkarsh\\AppData\\Local\\Programs\\Python\\Python310\\lib\\site-packages\\sklearn\\preprocessing\\_encoders.py:228: UserWarning: Found unknown categories in columns [0] during transform. These unknown categories will be encoded as all zeros\n",
      "  warnings.warn(\n"
     ]
    },
    {
     "data": {
      "text/plain": [
       "0.453393713873095"
      ]
     },
     "execution_count": 179,
     "metadata": {},
     "output_type": "execute_result"
    }
   ],
   "source": [
    "column_trans=make_column_transformer((OneHotEncoder(drop='first',sparse=False,handle_unknown='ignore'),['Locality','Transaction']),remainder='passthrough')\n",
    "scaler=StandardScaler()\n",
    "dtr=DecisionTreeRegressor()\n",
    "pipe=make_pipeline(column_trans,scaler,dtr)\n",
    "pipe.fit(X_train,Y_train)\n",
    "predictions=pipe.predict(X_test)\n",
    "score=r2_score(Y_test,predictions)\n",
    "score"
   ]
  },
  {
   "cell_type": "code",
   "execution_count": null,
   "id": "960a04da-0cc2-477f-ae6b-d3e250218070",
   "metadata": {},
   "outputs": [],
   "source": [
    "#Random Forest Regressor"
   ]
  },
  {
   "cell_type": "code",
   "execution_count": 202,
   "id": "290a7953-94f1-4e6f-b5c5-975f84e03f2c",
   "metadata": {},
   "outputs": [
    {
     "name": "stderr",
     "output_type": "stream",
     "text": [
      "C:\\Users\\Utkarsh\\AppData\\Local\\Programs\\Python\\Python310\\lib\\site-packages\\sklearn\\preprocessing\\_encoders.py:975: FutureWarning: `sparse` was renamed to `sparse_output` in version 1.2 and will be removed in 1.4. `sparse_output` is ignored unless you leave `sparse` to its default value.\n",
      "  warnings.warn(\n",
      "C:\\Users\\Utkarsh\\AppData\\Local\\Programs\\Python\\Python310\\lib\\site-packages\\sklearn\\preprocessing\\_encoders.py:228: UserWarning: Found unknown categories in columns [0] during transform. These unknown categories will be encoded as all zeros\n",
      "  warnings.warn(\n"
     ]
    },
    {
     "data": {
      "text/plain": [
       "0.8217609254790867"
      ]
     },
     "execution_count": 202,
     "metadata": {},
     "output_type": "execute_result"
    }
   ],
   "source": [
    "column_trans=make_column_transformer((OneHotEncoder(drop='first',sparse=False,handle_unknown='ignore'),['Locality','Transaction']),remainder='passthrough')\n",
    "scaler=StandardScaler()\n",
    "rfr=RandomForestRegressor(n_estimators=100,random_state=0,max_samples=0.2,max_features=0.75,max_depth=18)\n",
    "pipe=make_pipeline(column_trans,scaler,rfr)\n",
    "pipe.fit(X_train,Y_train)\n",
    "predictions=pipe.predict(X_test)\n",
    "score=r2_score(Y_test,predictions)\n",
    "score"
   ]
  },
  {
   "cell_type": "code",
   "execution_count": null,
   "id": "98d1fa94-51cb-41e8-a103-aeb7a79d2ac5",
   "metadata": {},
   "outputs": [],
   "source": [
    "#Voting Regressor"
   ]
  },
  {
   "cell_type": "code",
   "execution_count": 201,
   "id": "c71ab93f-5f80-4ff5-b1d2-b818c8abfee5",
   "metadata": {},
   "outputs": [
    {
     "name": "stderr",
     "output_type": "stream",
     "text": [
      "C:\\Users\\Utkarsh\\AppData\\Local\\Programs\\Python\\Python310\\lib\\site-packages\\sklearn\\preprocessing\\_encoders.py:975: FutureWarning: `sparse` was renamed to `sparse_output` in version 1.2 and will be removed in 1.4. `sparse_output` is ignored unless you leave `sparse` to its default value.\n",
      "  warnings.warn(\n",
      "C:\\Users\\Utkarsh\\AppData\\Local\\Programs\\Python\\Python310\\lib\\site-packages\\sklearn\\linear_model\\_coordinate_descent.py:628: ConvergenceWarning: Objective did not converge. You might want to increase the number of iterations, check the scale of the features or consider increasing regularisation. Duality gap: 6.403e+16, tolerance: 7.214e+13\n",
      "  model = cd_fast.enet_coordinate_descent(\n",
      "C:\\Users\\Utkarsh\\AppData\\Local\\Programs\\Python\\Python310\\lib\\site-packages\\sklearn\\preprocessing\\_encoders.py:228: UserWarning: Found unknown categories in columns [0] during transform. These unknown categories will be encoded as all zeros\n",
      "  warnings.warn(\n"
     ]
    },
    {
     "data": {
      "text/plain": [
       "0.8388525934714369"
      ]
     },
     "execution_count": 201,
     "metadata": {},
     "output_type": "execute_result"
    }
   ],
   "source": [
    "from sklearn.ensemble import VotingRegressor\n",
    "column_trans=make_column_transformer((OneHotEncoder(drop='first',sparse=False,handle_unknown='ignore'),['Locality','Transaction']),remainder='passthrough')\n",
    "scaler=StandardScaler()\n",
    "rfr=RandomForestRegressor(n_estimators=100,random_state=0,max_samples=0.2,max_features=0.75,max_depth=18)\n",
    "ls=Lasso(alpha=0.001)\n",
    "rd=Ridge(alpha=10)\n",
    "vr=VotingRegressor([('rfr',rfr),('ls',ls),('rd',rd)],weights=[5,1,1])\n",
    "pipe=make_pipeline(column_trans,scaler,vr)\n",
    "pipe.fit(X_train,Y_train)\n",
    "predictions=pipe.predict(X_test)\n",
    "score=r2_score(Y_test,predictions)\n",
    "score"
   ]
  },
  {
   "cell_type": "code",
   "execution_count": null,
   "id": "f8d67c8d-cf40-408d-8c74-397545abec83",
   "metadata": {},
   "outputs": [],
   "source": [
    "#exportingmodel"
   ]
  },
  {
   "cell_type": "code",
   "execution_count": 205,
   "id": "7ec71a8b-485a-4d5c-9c94-620521ea49dd",
   "metadata": {},
   "outputs": [],
   "source": [
    "import pickle\n",
    "pickle.dump(data,open('data.pkl','wb'))\n",
    "pickle.dump(pipe,open('RandomForestRegressor.pkl','wb'))\n"
   ]
  },
  {
   "cell_type": "code",
   "execution_count": null,
   "id": "971a5bee-044f-434f-a7e6-20f374f8b4c7",
   "metadata": {},
   "outputs": [],
   "source": []
  }
 ],
 "metadata": {
  "kernelspec": {
   "display_name": "Python 3 (ipykernel)",
   "language": "python",
   "name": "python3"
  },
  "language_info": {
   "codemirror_mode": {
    "name": "ipython",
    "version": 3
   },
   "file_extension": ".py",
   "mimetype": "text/x-python",
   "name": "python",
   "nbconvert_exporter": "python",
   "pygments_lexer": "ipython3",
   "version": "3.10.2"
  }
 },
 "nbformat": 4,
 "nbformat_minor": 5
}
