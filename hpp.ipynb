{
 "cells": [
  {
   "cell_type": "code",
   "execution_count": 173,
   "id": "33e3343c-85a8-4d52-a011-2df2b90c75bd",
   "metadata": {},
   "outputs": [],
   "source": [
    "import pandas as pd\n",
    "import numpy as np\n",
    "import matplotlib.pyplot as plt"
   ]
  },
  {
   "cell_type": "code",
   "execution_count": 174,
   "id": "8f117348-f183-45fc-a3fa-b7ad4ffb3014",
   "metadata": {},
   "outputs": [],
   "source": [
    "data=pd.read_csv('delhidataset.csv')"
   ]
  },
  {
   "cell_type": "code",
   "execution_count": 175,
   "id": "c72fcefd-38dd-4828-8f18-308850165546",
   "metadata": {},
   "outputs": [
    {
     "name": "stdout",
     "output_type": "stream",
     "text": [
      "    Area  BHK  Bathroom      Furnishing  \\\n",
      "0  800.0    3       2.0  Semi-Furnished   \n",
      "1  750.0    2       2.0  Semi-Furnished   \n",
      "2  950.0    2       2.0       Furnished   \n",
      "3  600.0    2       2.0  Semi-Furnished   \n",
      "4  650.0    2       2.0  Semi-Furnished   \n",
      "\n",
      "                                            Locality  Parking     Price  \\\n",
      "0                                   Rohini Sector 25      1.0   6500000   \n",
      "1             J R Designers Floors, Rohini Sector 24      1.0   5000000   \n",
      "2                Citizen Apartment, Rohini Sector 13      1.0  15500000   \n",
      "3                                   Rohini Sector 24      1.0   4200000   \n",
      "4  Rohini Sector 24 carpet area 650 sqft status R...      1.0   6200000   \n",
      "\n",
      "          Status   Transaction           Type  \n",
      "0  Ready_to_move  New_Property  Builder_Floor  \n",
      "1  Ready_to_move  New_Property      Apartment  \n",
      "2  Ready_to_move        Resale      Apartment  \n",
      "3  Ready_to_move        Resale  Builder_Floor  \n",
      "4  Ready_to_move  New_Property  Builder_Floor  \n"
     ]
    }
   ],
   "source": [
    "print(data.head())"
   ]
  },
  {
   "cell_type": "code",
   "execution_count": 176,
   "id": "0cde6dc7-a42b-4af4-ba58-f17c145724b3",
   "metadata": {},
   "outputs": [
    {
     "data": {
      "text/plain": [
       "(1259, 10)"
      ]
     },
     "execution_count": 176,
     "metadata": {},
     "output_type": "execute_result"
    }
   ],
   "source": [
    "data.shape"
   ]
  },
  {
   "cell_type": "code",
   "execution_count": 177,
   "id": "3d9884e7-cc39-419f-b053-90095118db5a",
   "metadata": {},
   "outputs": [
    {
     "name": "stdout",
     "output_type": "stream",
     "text": [
      "<class 'pandas.core.frame.DataFrame'>\n",
      "RangeIndex: 1259 entries, 0 to 1258\n",
      "Data columns (total 10 columns):\n",
      " #   Column       Non-Null Count  Dtype  \n",
      "---  ------       --------------  -----  \n",
      " 0   Area         1259 non-null   float64\n",
      " 1   BHK          1259 non-null   int64  \n",
      " 2   Bathroom     1257 non-null   float64\n",
      " 3   Furnishing   1254 non-null   object \n",
      " 4   Locality     1259 non-null   object \n",
      " 5   Parking      1226 non-null   float64\n",
      " 6   Price        1259 non-null   int64  \n",
      " 7   Status       1259 non-null   object \n",
      " 8   Transaction  1259 non-null   object \n",
      " 9   Type         1254 non-null   object \n",
      "dtypes: float64(3), int64(2), object(5)\n",
      "memory usage: 98.5+ KB\n"
     ]
    }
   ],
   "source": [
    "data.info()"
   ]
  },
  {
   "cell_type": "code",
   "execution_count": 178,
   "id": "f0e5b70f-06ab-4148-bfec-b1256d130df0",
   "metadata": {},
   "outputs": [
    {
     "data": {
      "text/plain": [
       "Area            0\n",
       "BHK             0\n",
       "Bathroom        2\n",
       "Furnishing      5\n",
       "Locality        0\n",
       "Parking        33\n",
       "Price           0\n",
       "Status          0\n",
       "Transaction     0\n",
       "Type            5\n",
       "dtype: int64"
      ]
     },
     "execution_count": 178,
     "metadata": {},
     "output_type": "execute_result"
    }
   ],
   "source": [
    "data.isna().sum()"
   ]
  },
  {
   "cell_type": "code",
   "execution_count": 179,
   "id": "e54374ac-1f21-4974-833d-ba840b7e211e",
   "metadata": {},
   "outputs": [],
   "source": [
    "data.drop(columns=['Furnishing','Status','Type'],inplace=True)"
   ]
  },
  {
   "cell_type": "code",
   "execution_count": 180,
   "id": "cda74d07-147f-4769-9141-872231afc0f8",
   "metadata": {},
   "outputs": [
    {
     "data": {
      "text/html": [
       "<div>\n",
       "<style scoped>\n",
       "    .dataframe tbody tr th:only-of-type {\n",
       "        vertical-align: middle;\n",
       "    }\n",
       "\n",
       "    .dataframe tbody tr th {\n",
       "        vertical-align: top;\n",
       "    }\n",
       "\n",
       "    .dataframe thead th {\n",
       "        text-align: right;\n",
       "    }\n",
       "</style>\n",
       "<table border=\"1\" class=\"dataframe\">\n",
       "  <thead>\n",
       "    <tr style=\"text-align: right;\">\n",
       "      <th></th>\n",
       "      <th>Area</th>\n",
       "      <th>BHK</th>\n",
       "      <th>Bathroom</th>\n",
       "      <th>Parking</th>\n",
       "      <th>Price</th>\n",
       "    </tr>\n",
       "  </thead>\n",
       "  <tbody>\n",
       "    <tr>\n",
       "      <th>count</th>\n",
       "      <td>1259.000000</td>\n",
       "      <td>1259.000000</td>\n",
       "      <td>1257.000000</td>\n",
       "      <td>1226.000000</td>\n",
       "      <td>1.259000e+03</td>\n",
       "    </tr>\n",
       "    <tr>\n",
       "      <th>mean</th>\n",
       "      <td>1466.452724</td>\n",
       "      <td>2.796664</td>\n",
       "      <td>2.556086</td>\n",
       "      <td>1.935563</td>\n",
       "      <td>2.130670e+07</td>\n",
       "    </tr>\n",
       "    <tr>\n",
       "      <th>std</th>\n",
       "      <td>1568.055040</td>\n",
       "      <td>0.954425</td>\n",
       "      <td>1.042220</td>\n",
       "      <td>6.279212</td>\n",
       "      <td>2.560115e+07</td>\n",
       "    </tr>\n",
       "    <tr>\n",
       "      <th>min</th>\n",
       "      <td>28.000000</td>\n",
       "      <td>1.000000</td>\n",
       "      <td>1.000000</td>\n",
       "      <td>1.000000</td>\n",
       "      <td>1.000000e+06</td>\n",
       "    </tr>\n",
       "    <tr>\n",
       "      <th>25%</th>\n",
       "      <td>800.000000</td>\n",
       "      <td>2.000000</td>\n",
       "      <td>2.000000</td>\n",
       "      <td>1.000000</td>\n",
       "      <td>5.700000e+06</td>\n",
       "    </tr>\n",
       "    <tr>\n",
       "      <th>50%</th>\n",
       "      <td>1200.000000</td>\n",
       "      <td>3.000000</td>\n",
       "      <td>2.000000</td>\n",
       "      <td>1.000000</td>\n",
       "      <td>1.420000e+07</td>\n",
       "    </tr>\n",
       "    <tr>\n",
       "      <th>75%</th>\n",
       "      <td>1700.000000</td>\n",
       "      <td>3.000000</td>\n",
       "      <td>3.000000</td>\n",
       "      <td>2.000000</td>\n",
       "      <td>2.550000e+07</td>\n",
       "    </tr>\n",
       "    <tr>\n",
       "      <th>max</th>\n",
       "      <td>24300.000000</td>\n",
       "      <td>10.000000</td>\n",
       "      <td>7.000000</td>\n",
       "      <td>114.000000</td>\n",
       "      <td>2.400000e+08</td>\n",
       "    </tr>\n",
       "  </tbody>\n",
       "</table>\n",
       "</div>"
      ],
      "text/plain": [
       "               Area          BHK     Bathroom      Parking         Price\n",
       "count   1259.000000  1259.000000  1257.000000  1226.000000  1.259000e+03\n",
       "mean    1466.452724     2.796664     2.556086     1.935563  2.130670e+07\n",
       "std     1568.055040     0.954425     1.042220     6.279212  2.560115e+07\n",
       "min       28.000000     1.000000     1.000000     1.000000  1.000000e+06\n",
       "25%      800.000000     2.000000     2.000000     1.000000  5.700000e+06\n",
       "50%     1200.000000     3.000000     2.000000     1.000000  1.420000e+07\n",
       "75%     1700.000000     3.000000     3.000000     2.000000  2.550000e+07\n",
       "max    24300.000000    10.000000     7.000000   114.000000  2.400000e+08"
      ]
     },
     "execution_count": 180,
     "metadata": {},
     "output_type": "execute_result"
    }
   ],
   "source": [
    "data.describe()"
   ]
  },
  {
   "cell_type": "code",
   "execution_count": 181,
   "id": "e72c3993-ace0-4daa-9988-49bc08e97b28",
   "metadata": {},
   "outputs": [
    {
     "name": "stdout",
     "output_type": "stream",
     "text": [
      "<class 'pandas.core.frame.DataFrame'>\n",
      "RangeIndex: 1259 entries, 0 to 1258\n",
      "Data columns (total 7 columns):\n",
      " #   Column       Non-Null Count  Dtype  \n",
      "---  ------       --------------  -----  \n",
      " 0   Area         1259 non-null   float64\n",
      " 1   BHK          1259 non-null   int64  \n",
      " 2   Bathroom     1257 non-null   float64\n",
      " 3   Locality     1259 non-null   object \n",
      " 4   Parking      1226 non-null   float64\n",
      " 5   Price        1259 non-null   int64  \n",
      " 6   Transaction  1259 non-null   object \n",
      "dtypes: float64(3), int64(2), object(2)\n",
      "memory usage: 69.0+ KB\n"
     ]
    }
   ],
   "source": [
    "data.info()\n"
   ]
  },
  {
   "cell_type": "code",
   "execution_count": 182,
   "id": "f23a6ef9-12ae-4f50-b240-101ab908fb15",
   "metadata": {},
   "outputs": [
    {
     "data": {
      "text/plain": [
       "Bathroom\n",
       "2.0    551\n",
       "3.0    355\n",
       "1.0    146\n",
       "4.0    138\n",
       "5.0     57\n",
       "6.0      7\n",
       "7.0      3\n",
       "Name: count, dtype: int64"
      ]
     },
     "execution_count": 182,
     "metadata": {},
     "output_type": "execute_result"
    }
   ],
   "source": [
    "data['Bathroom'].value_counts()"
   ]
  },
  {
   "cell_type": "code",
   "execution_count": 183,
   "id": "94a49239-7908-49f2-8c0f-14b04cd33317",
   "metadata": {},
   "outputs": [],
   "source": [
    "data['Bathroom']=data['Bathroom'].fillna('2.0')"
   ]
  },
  {
   "cell_type": "code",
   "execution_count": 184,
   "id": "d3e13cf8-0239-44f6-af22-f5ad83af0cc5",
   "metadata": {},
   "outputs": [
    {
     "data": {
      "text/plain": [
       "Parking\n",
       "1.0      796\n",
       "2.0      341\n",
       "3.0       54\n",
       "4.0       16\n",
       "5.0        7\n",
       "39.0       7\n",
       "114.0      3\n",
       "9.0        1\n",
       "10.0       1\n",
       "Name: count, dtype: int64"
      ]
     },
     "execution_count": 184,
     "metadata": {},
     "output_type": "execute_result"
    }
   ],
   "source": [
    "data['Parking'].value_counts()"
   ]
  },
  {
   "cell_type": "code",
   "execution_count": 185,
   "id": "2649d0e4-88f1-4ef4-a62d-0b771131c059",
   "metadata": {},
   "outputs": [],
   "source": [
    "data['Parking']=data['Parking'].fillna('1.0')"
   ]
  },
  {
   "cell_type": "code",
   "execution_count": 186,
   "id": "32122f11-06f9-4cc1-8845-65db9f9890a5",
   "metadata": {},
   "outputs": [
    {
     "name": "stdout",
     "output_type": "stream",
     "text": [
      "<class 'pandas.core.frame.DataFrame'>\n",
      "RangeIndex: 1259 entries, 0 to 1258\n",
      "Data columns (total 7 columns):\n",
      " #   Column       Non-Null Count  Dtype  \n",
      "---  ------       --------------  -----  \n",
      " 0   Area         1259 non-null   float64\n",
      " 1   BHK          1259 non-null   int64  \n",
      " 2   Bathroom     1259 non-null   object \n",
      " 3   Locality     1259 non-null   object \n",
      " 4   Parking      1259 non-null   object \n",
      " 5   Price        1259 non-null   int64  \n",
      " 6   Transaction  1259 non-null   object \n",
      "dtypes: float64(1), int64(2), object(4)\n",
      "memory usage: 69.0+ KB\n"
     ]
    }
   ],
   "source": [
    "data.info()"
   ]
  },
  {
   "cell_type": "code",
   "execution_count": 276,
   "id": "cf369fb7-5588-4e17-882f-4cf1429cfdec",
   "metadata": {},
   "outputs": [],
   "source": [
    "from sklearn.model_selection import train_test_split"
   ]
  },
  {
   "cell_type": "code",
   "execution_count": 277,
   "id": "9a7d2139-d17c-4d84-a8fa-5a78cf4dbc92",
   "metadata": {},
   "outputs": [],
   "source": [
    "X=data[['Area','BHK','Bathroom','Parking']]\n",
    "Y=data['Price']"
   ]
  },
  {
   "cell_type": "code",
   "execution_count": 278,
   "id": "b1da0599-936e-4e37-b694-3cc6aafb2baf",
   "metadata": {},
   "outputs": [],
   "source": [
    "X_train,X_test,Y_train,Y_test=train_test_split(X,Y,test_size=0.2,random_state=42)"
   ]
  },
  {
   "cell_type": "code",
   "execution_count": 279,
   "id": "25278ef4-b18e-4012-abc5-39bf7cf67921",
   "metadata": {},
   "outputs": [
    {
     "data": {
      "text/html": [
       "<div>\n",
       "<style scoped>\n",
       "    .dataframe tbody tr th:only-of-type {\n",
       "        vertical-align: middle;\n",
       "    }\n",
       "\n",
       "    .dataframe tbody tr th {\n",
       "        vertical-align: top;\n",
       "    }\n",
       "\n",
       "    .dataframe thead th {\n",
       "        text-align: right;\n",
       "    }\n",
       "</style>\n",
       "<table border=\"1\" class=\"dataframe\">\n",
       "  <thead>\n",
       "    <tr style=\"text-align: right;\">\n",
       "      <th></th>\n",
       "      <th>Area</th>\n",
       "      <th>BHK</th>\n",
       "      <th>Bathroom</th>\n",
       "      <th>Parking</th>\n",
       "    </tr>\n",
       "  </thead>\n",
       "  <tbody>\n",
       "    <tr>\n",
       "      <th>243</th>\n",
       "      <td>4300.0</td>\n",
       "      <td>4</td>\n",
       "      <td>4.0</td>\n",
       "      <td>2.0</td>\n",
       "    </tr>\n",
       "    <tr>\n",
       "      <th>514</th>\n",
       "      <td>504.0</td>\n",
       "      <td>3</td>\n",
       "      <td>1.0</td>\n",
       "      <td>1.0</td>\n",
       "    </tr>\n",
       "    <tr>\n",
       "      <th>966</th>\n",
       "      <td>1000.0</td>\n",
       "      <td>3</td>\n",
       "      <td>2.0</td>\n",
       "      <td>2.0</td>\n",
       "    </tr>\n",
       "    <tr>\n",
       "      <th>199</th>\n",
       "      <td>1295.0</td>\n",
       "      <td>3</td>\n",
       "      <td>2.0</td>\n",
       "      <td>1.0</td>\n",
       "    </tr>\n",
       "    <tr>\n",
       "      <th>270</th>\n",
       "      <td>2650.0</td>\n",
       "      <td>4</td>\n",
       "      <td>4.0</td>\n",
       "      <td>2.0</td>\n",
       "    </tr>\n",
       "    <tr>\n",
       "      <th>...</th>\n",
       "      <td>...</td>\n",
       "      <td>...</td>\n",
       "      <td>...</td>\n",
       "      <td>...</td>\n",
       "    </tr>\n",
       "    <tr>\n",
       "      <th>1044</th>\n",
       "      <td>1200.0</td>\n",
       "      <td>3</td>\n",
       "      <td>2.0</td>\n",
       "      <td>1.0</td>\n",
       "    </tr>\n",
       "    <tr>\n",
       "      <th>1095</th>\n",
       "      <td>1350.0</td>\n",
       "      <td>3</td>\n",
       "      <td>3.0</td>\n",
       "      <td>2.0</td>\n",
       "    </tr>\n",
       "    <tr>\n",
       "      <th>1130</th>\n",
       "      <td>1000.0</td>\n",
       "      <td>2</td>\n",
       "      <td>2.0</td>\n",
       "      <td>1.0</td>\n",
       "    </tr>\n",
       "    <tr>\n",
       "      <th>860</th>\n",
       "      <td>565.0</td>\n",
       "      <td>2</td>\n",
       "      <td>2.0</td>\n",
       "      <td>1.0</td>\n",
       "    </tr>\n",
       "    <tr>\n",
       "      <th>1126</th>\n",
       "      <td>4455.0</td>\n",
       "      <td>5</td>\n",
       "      <td>5.0</td>\n",
       "      <td>1.0</td>\n",
       "    </tr>\n",
       "  </tbody>\n",
       "</table>\n",
       "<p>1007 rows × 4 columns</p>\n",
       "</div>"
      ],
      "text/plain": [
       "        Area  BHK Bathroom Parking\n",
       "243   4300.0    4      4.0     2.0\n",
       "514    504.0    3      1.0     1.0\n",
       "966   1000.0    3      2.0     2.0\n",
       "199   1295.0    3      2.0     1.0\n",
       "270   2650.0    4      4.0     2.0\n",
       "...      ...  ...      ...     ...\n",
       "1044  1200.0    3      2.0     1.0\n",
       "1095  1350.0    3      3.0     2.0\n",
       "1130  1000.0    2      2.0     1.0\n",
       "860    565.0    2      2.0     1.0\n",
       "1126  4455.0    5      5.0     1.0\n",
       "\n",
       "[1007 rows x 4 columns]"
      ]
     },
     "execution_count": 279,
     "metadata": {},
     "output_type": "execute_result"
    }
   ],
   "source": [
    "X_train"
   ]
  },
  {
   "cell_type": "code",
   "execution_count": 295,
   "id": "47e1fff7-94eb-43cd-b536-1afaed4cd9f0",
   "metadata": {},
   "outputs": [],
   "source": [
    "from sklearn.ensemble import RandomForestRegressor"
   ]
  },
  {
   "cell_type": "code",
   "execution_count": 296,
   "id": "564f1837-5a51-4f28-942d-75f90193fc8a",
   "metadata": {},
   "outputs": [],
   "source": [
    "ln=RandomForestRegressor()"
   ]
  },
  {
   "cell_type": "code",
   "execution_count": 297,
   "id": "49348096-1968-43c3-baf6-d20b8f94fc2c",
   "metadata": {},
   "outputs": [
    {
     "data": {
      "text/html": [
       "<style>#sk-container-id-13 {color: black;}#sk-container-id-13 pre{padding: 0;}#sk-container-id-13 div.sk-toggleable {background-color: white;}#sk-container-id-13 label.sk-toggleable__label {cursor: pointer;display: block;width: 100%;margin-bottom: 0;padding: 0.3em;box-sizing: border-box;text-align: center;}#sk-container-id-13 label.sk-toggleable__label-arrow:before {content: \"▸\";float: left;margin-right: 0.25em;color: #696969;}#sk-container-id-13 label.sk-toggleable__label-arrow:hover:before {color: black;}#sk-container-id-13 div.sk-estimator:hover label.sk-toggleable__label-arrow:before {color: black;}#sk-container-id-13 div.sk-toggleable__content {max-height: 0;max-width: 0;overflow: hidden;text-align: left;background-color: #f0f8ff;}#sk-container-id-13 div.sk-toggleable__content pre {margin: 0.2em;color: black;border-radius: 0.25em;background-color: #f0f8ff;}#sk-container-id-13 input.sk-toggleable__control:checked~div.sk-toggleable__content {max-height: 200px;max-width: 100%;overflow: auto;}#sk-container-id-13 input.sk-toggleable__control:checked~label.sk-toggleable__label-arrow:before {content: \"▾\";}#sk-container-id-13 div.sk-estimator input.sk-toggleable__control:checked~label.sk-toggleable__label {background-color: #d4ebff;}#sk-container-id-13 div.sk-label input.sk-toggleable__control:checked~label.sk-toggleable__label {background-color: #d4ebff;}#sk-container-id-13 input.sk-hidden--visually {border: 0;clip: rect(1px 1px 1px 1px);clip: rect(1px, 1px, 1px, 1px);height: 1px;margin: -1px;overflow: hidden;padding: 0;position: absolute;width: 1px;}#sk-container-id-13 div.sk-estimator {font-family: monospace;background-color: #f0f8ff;border: 1px dotted black;border-radius: 0.25em;box-sizing: border-box;margin-bottom: 0.5em;}#sk-container-id-13 div.sk-estimator:hover {background-color: #d4ebff;}#sk-container-id-13 div.sk-parallel-item::after {content: \"\";width: 100%;border-bottom: 1px solid gray;flex-grow: 1;}#sk-container-id-13 div.sk-label:hover label.sk-toggleable__label {background-color: #d4ebff;}#sk-container-id-13 div.sk-serial::before {content: \"\";position: absolute;border-left: 1px solid gray;box-sizing: border-box;top: 0;bottom: 0;left: 50%;z-index: 0;}#sk-container-id-13 div.sk-serial {display: flex;flex-direction: column;align-items: center;background-color: white;padding-right: 0.2em;padding-left: 0.2em;position: relative;}#sk-container-id-13 div.sk-item {position: relative;z-index: 1;}#sk-container-id-13 div.sk-parallel {display: flex;align-items: stretch;justify-content: center;background-color: white;position: relative;}#sk-container-id-13 div.sk-item::before, #sk-container-id-13 div.sk-parallel-item::before {content: \"\";position: absolute;border-left: 1px solid gray;box-sizing: border-box;top: 0;bottom: 0;left: 50%;z-index: -1;}#sk-container-id-13 div.sk-parallel-item {display: flex;flex-direction: column;z-index: 1;position: relative;background-color: white;}#sk-container-id-13 div.sk-parallel-item:first-child::after {align-self: flex-end;width: 50%;}#sk-container-id-13 div.sk-parallel-item:last-child::after {align-self: flex-start;width: 50%;}#sk-container-id-13 div.sk-parallel-item:only-child::after {width: 0;}#sk-container-id-13 div.sk-dashed-wrapped {border: 1px dashed gray;margin: 0 0.4em 0.5em 0.4em;box-sizing: border-box;padding-bottom: 0.4em;background-color: white;}#sk-container-id-13 div.sk-label label {font-family: monospace;font-weight: bold;display: inline-block;line-height: 1.2em;}#sk-container-id-13 div.sk-label-container {text-align: center;}#sk-container-id-13 div.sk-container {/* jupyter's `normalize.less` sets `[hidden] { display: none; }` but bootstrap.min.css set `[hidden] { display: none !important; }` so we also need the `!important` here to be able to override the default hidden behavior on the sphinx rendered scikit-learn.org. See: https://github.com/scikit-learn/scikit-learn/issues/21755 */display: inline-block !important;position: relative;}#sk-container-id-13 div.sk-text-repr-fallback {display: none;}</style><div id=\"sk-container-id-13\" class=\"sk-top-container\"><div class=\"sk-text-repr-fallback\"><pre>RandomForestRegressor()</pre><b>In a Jupyter environment, please rerun this cell to show the HTML representation or trust the notebook. <br />On GitHub, the HTML representation is unable to render, please try loading this page with nbviewer.org.</b></div><div class=\"sk-container\" hidden><div class=\"sk-item\"><div class=\"sk-estimator sk-toggleable\"><input class=\"sk-toggleable__control sk-hidden--visually\" id=\"sk-estimator-id-13\" type=\"checkbox\" checked><label for=\"sk-estimator-id-13\" class=\"sk-toggleable__label sk-toggleable__label-arrow\">RandomForestRegressor</label><div class=\"sk-toggleable__content\"><pre>RandomForestRegressor()</pre></div></div></div></div></div>"
      ],
      "text/plain": [
       "RandomForestRegressor()"
      ]
     },
     "execution_count": 297,
     "metadata": {},
     "output_type": "execute_result"
    }
   ],
   "source": [
    "ln.fit(X_train,Y_train)"
   ]
  },
  {
   "cell_type": "code",
   "execution_count": 298,
   "id": "897e6bfb-1a73-4433-82de-2b3e039f85c8",
   "metadata": {},
   "outputs": [],
   "source": [
    "predictions=ln.predict(X_test)"
   ]
  },
  {
   "cell_type": "code",
   "execution_count": 299,
   "id": "360e13fc-bcb1-421d-992b-42bbd1d713f3",
   "metadata": {},
   "outputs": [
    {
     "data": {
      "text/plain": [
       "array([2.04996683e+07, 2.46350000e+07, 8.19627968e+06, 6.64112500e+07,\n",
       "       3.08125000e+06, 2.12101555e+07, 5.89600000e+07, 1.00313125e+08,\n",
       "       3.94845238e+06, 2.28335444e+07, 1.05247000e+07, 2.20469163e+06,\n",
       "       3.07011833e+07, 3.76725000e+06, 1.06387587e+07, 4.02541944e+07,\n",
       "       3.66129932e+06, 2.24240187e+07, 5.92237398e+06, 1.62430500e+07,\n",
       "       4.19145402e+06, 1.54668917e+07, 1.79823081e+07, 3.04749174e+06,\n",
       "       1.46905833e+07, 4.51664583e+07, 2.14917560e+07, 5.31506786e+07,\n",
       "       7.26099966e+06, 4.19145402e+06, 7.67830866e+06, 8.76387492e+06,\n",
       "       2.01746500e+07, 8.66452806e+06, 2.37315437e+07, 2.29936255e+06,\n",
       "       7.28620000e+07, 8.66452806e+06, 7.51479304e+06, 2.03611337e+07,\n",
       "       8.76387492e+06, 5.04078492e+06, 2.14917560e+07, 4.82350000e+07,\n",
       "       1.56247044e+07, 2.02761667e+07, 2.60297222e+07, 7.58877154e+06,\n",
       "       1.09242389e+07, 7.54640000e+07, 5.23390000e+07, 5.23552286e+07,\n",
       "       9.36272885e+06, 1.25903295e+07, 1.03185000e+07, 8.16783333e+06,\n",
       "       1.15503958e+07, 2.14320000e+07, 2.84037568e+07, 5.94037245e+06,\n",
       "       8.76387492e+06, 8.66452806e+06, 5.18400000e+06, 1.43803429e+07,\n",
       "       2.26089341e+07, 9.29498571e+06, 7.51479304e+06, 9.62207143e+07,\n",
       "       8.88148696e+06, 5.94037245e+06, 7.67830866e+06, 2.67850000e+06,\n",
       "       2.24240187e+07, 2.87569760e+06, 8.76387492e+06, 5.99831071e+06,\n",
       "       3.94845238e+06, 2.60170534e+06, 5.06777083e+07, 1.70030833e+07,\n",
       "       4.13200000e+07, 5.92237398e+06, 5.92237398e+06, 8.23465595e+06,\n",
       "       2.88642839e+07, 6.38815476e+07, 6.03180335e+06, 1.53535119e+07,\n",
       "       1.58475238e+07, 2.91450238e+06, 2.15230556e+07, 2.05324286e+07,\n",
       "       9.66287500e+06, 2.71339389e+07, 1.11928429e+07, 2.14917560e+07,\n",
       "       7.67830866e+06, 2.39800000e+06, 5.79118333e+07, 1.18301940e+07,\n",
       "       3.94845238e+06, 7.12240400e+06, 6.72355000e+07, 3.24723333e+07,\n",
       "       7.24825462e+06, 1.10095000e+07, 5.27650000e+07, 1.58906835e+07,\n",
       "       1.04847665e+07, 1.65699333e+07, 6.38815476e+07, 6.08710000e+07,\n",
       "       1.36394548e+07, 3.11729167e+06, 2.38680000e+07, 1.52854246e+07,\n",
       "       1.05247000e+07, 5.28025000e+07, 5.12549679e+07, 1.21721429e+08,\n",
       "       1.17791025e+07, 6.89267500e+07, 1.61122147e+07, 2.80840384e+07,\n",
       "       1.11903071e+07, 1.03185000e+07, 1.63907992e+07, 2.15230556e+07,\n",
       "       8.01786439e+06, 2.03611337e+07, 4.34765000e+07, 8.43167262e+07,\n",
       "       4.26292619e+07, 1.81543810e+07, 2.15230556e+07, 2.80732983e+07,\n",
       "       1.19404643e+07, 1.04847665e+07, 1.57842857e+07, 5.77900000e+06,\n",
       "       3.67200833e+07, 5.59935952e+06, 2.48378501e+07, 5.04078492e+06,\n",
       "       2.41254370e+07, 1.65699333e+07, 4.79479786e+07, 3.23119861e+07,\n",
       "       1.11903071e+07, 1.79823081e+07, 7.90302500e+07, 5.25291667e+07,\n",
       "       5.12549679e+07, 2.35975000e+07, 2.51271667e+07, 1.15201825e+07,\n",
       "       7.51479304e+06, 2.01453333e+08, 3.49762500e+07, 1.58475238e+07,\n",
       "       7.69704524e+07, 4.27135417e+07, 9.66287500e+06, 3.06084483e+07,\n",
       "       5.97689643e+07, 8.60270833e+07, 4.12941667e+07, 2.44909148e+06,\n",
       "       2.03611337e+07, 4.40984595e+07, 6.64112500e+07, 1.49155000e+08,\n",
       "       5.12549679e+07, 1.74406061e+07, 1.72230000e+07, 1.80589881e+07,\n",
       "       1.27739298e+07, 2.21568111e+06, 2.84037568e+07, 1.45118750e+07,\n",
       "       8.66022113e+06, 1.44945000e+07, 2.14917560e+07, 1.47240833e+07,\n",
       "       2.84037568e+07, 2.01746500e+07, 4.34765000e+07, 1.70030833e+07,\n",
       "       5.62476667e+06, 2.80732983e+07, 1.52049676e+07, 3.79025833e+07,\n",
       "       2.77304048e+06, 5.94037245e+06, 1.04847665e+07, 3.54965000e+07,\n",
       "       1.87650163e+06, 7.80601729e+06, 8.76387492e+06, 1.14251802e+07,\n",
       "       3.11729167e+06, 2.38896667e+07, 7.35016667e+06, 5.99831071e+06,\n",
       "       4.51166500e+07, 4.75887714e+07, 1.04847665e+07, 1.54308095e+07,\n",
       "       5.77900000e+06, 2.86693093e+06, 3.13925357e+07, 2.77033142e+06,\n",
       "       3.85280250e+07, 5.88839000e+07, 2.51060000e+06, 7.24825462e+06,\n",
       "       1.84565000e+07, 1.49260115e+07, 4.64800000e+06, 2.86278095e+06,\n",
       "       8.83500000e+07, 3.94845238e+06, 2.88642839e+07, 2.18269167e+06,\n",
       "       9.68983321e+06, 8.82100000e+07, 2.15230556e+07, 8.27183916e+06,\n",
       "       6.97398333e+06, 2.26999974e+06, 1.41638667e+07, 2.51202121e+06,\n",
       "       1.69282765e+07, 8.76387492e+06, 8.66452806e+06, 2.37315437e+07,\n",
       "       4.85550000e+07, 2.80732983e+07, 2.96748810e+07, 1.79823081e+07,\n",
       "       2.20469163e+06, 2.43022500e+07, 4.64349452e+07, 7.75073810e+07,\n",
       "       1.21721429e+08, 5.92237398e+06, 5.52666667e+06, 9.09283333e+06,\n",
       "       8.76387492e+06, 2.26999974e+06, 2.51060000e+06, 7.67830866e+06])"
      ]
     },
     "execution_count": 299,
     "metadata": {},
     "output_type": "execute_result"
    }
   ],
   "source": [
    "predictions"
   ]
  },
  {
   "cell_type": "code",
   "execution_count": 300,
   "id": "df463992-4d72-4b35-93a3-3365b127befc",
   "metadata": {},
   "outputs": [
    {
     "data": {
      "text/plain": [
       "<matplotlib.collections.PathCollection at 0x1e9df6ebf70>"
      ]
     },
     "execution_count": 300,
     "metadata": {},
     "output_type": "execute_result"
    },
    {
     "data": {
      "image/png": "[encoded data removed]",
      "text/plain": [
       "<Figure size 640x480 with 1 Axes>"
      ]
     },
     "metadata": {},
     "output_type": "display_data"
    }
   ],
   "source": [
    "plt.scatter(Y_test,predictions)"
   ]
  },
  {
   "cell_type": "code",
   "execution_count": 301,
   "id": "58b632d9-8614-49cf-a174-b6da110d225a",
   "metadata": {},
   "outputs": [],
   "source": [
    "from sklearn.metrics import r2_score"
   ]
  },
  {
   "cell_type": "code",
   "execution_count": 302,
   "id": "4d745bb5-2c6d-45ef-afe6-3a0e4b66915c",
   "metadata": {},
   "outputs": [],
   "source": [
    "score=r2_score(Y_test,predictions)"
   ]
  },
  {
   "cell_type": "code",
   "execution_count": 303,
   "id": "d3b3b0b2-92fa-4fe3-9407-1f2152bb2df3",
   "metadata": {},
   "outputs": [
    {
     "data": {
      "text/plain": [
       "0.7512335637772296"
      ]
     },
     "execution_count": 303,
     "metadata": {},
     "output_type": "execute_result"
    }
   ],
   "source": [
    "score"
   ]
  },
  {
   "cell_type": "code",
   "execution_count": null,
   "id": "f8d67c8d-cf40-408d-8c74-397545abec83",
   "metadata": {},
   "outputs": [],
   "source": []
  },
  {
   "cell_type": "code",
   "execution_count": null,
   "id": "7ec71a8b-485a-4d5c-9c94-620521ea49dd",
   "metadata": {},
   "outputs": [],
   "source": []
  }
 ],
 "metadata": {
  "kernelspec": {
   "display_name": "Python 3 (ipykernel)",
   "language": "python",
   "name": "python3"
  },
  "language_info": {
   "codemirror_mode": {
    "name": "ipython",
    "version": 3
   },
   "file_extension": ".py",
   "mimetype": "text/x-python",
   "name": "python",
   "nbconvert_exporter": "python",
   "pygments_lexer": "ipython3",
   "version": "3.10.2"
  }
 },
 "nbformat": 4,
 "nbformat_minor": 5
}
